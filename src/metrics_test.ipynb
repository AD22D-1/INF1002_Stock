{
 "cells": [
  {
   "cell_type": "markdown",
   "id": "414f71d0",
   "metadata": {},
   "source": [
    "load packages"
   ]
  },
  {
   "cell_type": "code",
   "execution_count": 2,
   "id": "acaeda13",
   "metadata": {},
   "outputs": [],
   "source": [
    "import pandas as pd\n",
    "import numpy as np\n",
    "import matplotlib.pyplot as plt\n",
    "import datetime as dt "
   ]
  },
  {
   "cell_type": "markdown",
   "id": "bad22651",
   "metadata": {},
   "source": [
    "load data"
   ]
  },
  {
   "cell_type": "code",
   "execution_count": 39,
   "id": "c8e3e867",
   "metadata": {},
   "outputs": [
    {
     "name": "stdout",
     "output_type": "stream",
     "text": [
      "<class 'pandas.core.frame.DataFrame'>\n",
      "DatetimeIndex: 3020 entries, 2015-01-02 to 2017-12-29\n",
      "Data columns (total 6 columns):\n",
      " #   Column  Non-Null Count  Dtype  \n",
      "---  ------  --------------  -----  \n",
      " 0   open    3020 non-null   float64\n",
      " 1   high    3020 non-null   float64\n",
      " 2   low     3020 non-null   float64\n",
      " 3   close   3020 non-null   float64\n",
      " 4   volume  3020 non-null   int64  \n",
      " 5   Name    3020 non-null   object \n",
      "dtypes: float64(4), int64(1), object(1)\n",
      "memory usage: 165.2+ KB\n"
     ]
    },
    {
     "data": {
      "application/vnd.microsoft.datawrangler.viewer.v0+json": {
       "columns": [
        {
         "name": "date",
         "rawType": "datetime64[ns]",
         "type": "datetime"
        },
        {
         "name": "open",
         "rawType": "float64",
         "type": "float"
        },
        {
         "name": "high",
         "rawType": "float64",
         "type": "float"
        },
        {
         "name": "low",
         "rawType": "float64",
         "type": "float"
        },
        {
         "name": "close",
         "rawType": "float64",
         "type": "float"
        },
        {
         "name": "volume",
         "rawType": "int64",
         "type": "integer"
        },
        {
         "name": "Name",
         "rawType": "object",
         "type": "string"
        }
       ],
       "ref": "3bacfbce-b6e3-4782-96bb-e1949c6a3170",
       "rows": [
        [
         "2015-01-02 00:00:00",
         "111.39",
         "111.44",
         "107.35",
         "109.33",
         "53204626",
         "AAPL"
        ],
        [
         "2015-01-05 00:00:00",
         "108.29",
         "108.65",
         "105.41",
         "106.25",
         "64285491",
         "AAPL"
        ],
        [
         "2015-01-06 00:00:00",
         "106.54",
         "107.43",
         "104.63",
         "106.26",
         "65797116",
         "AAPL"
        ],
        [
         "2015-01-07 00:00:00",
         "107.2",
         "108.2",
         "106.695",
         "107.75",
         "40105934",
         "AAPL"
        ],
        [
         "2015-01-08 00:00:00",
         "109.23",
         "112.15",
         "108.7",
         "111.89",
         "59364547",
         "AAPL"
        ]
       ],
       "shape": {
        "columns": 6,
        "rows": 5
       }
      },
      "text/html": [
       "<div>\n",
       "<style scoped>\n",
       "    .dataframe tbody tr th:only-of-type {\n",
       "        vertical-align: middle;\n",
       "    }\n",
       "\n",
       "    .dataframe tbody tr th {\n",
       "        vertical-align: top;\n",
       "    }\n",
       "\n",
       "    .dataframe thead th {\n",
       "        text-align: right;\n",
       "    }\n",
       "</style>\n",
       "<table border=\"1\" class=\"dataframe\">\n",
       "  <thead>\n",
       "    <tr style=\"text-align: right;\">\n",
       "      <th></th>\n",
       "      <th>open</th>\n",
       "      <th>high</th>\n",
       "      <th>low</th>\n",
       "      <th>close</th>\n",
       "      <th>volume</th>\n",
       "      <th>Name</th>\n",
       "    </tr>\n",
       "    <tr>\n",
       "      <th>date</th>\n",
       "      <th></th>\n",
       "      <th></th>\n",
       "      <th></th>\n",
       "      <th></th>\n",
       "      <th></th>\n",
       "      <th></th>\n",
       "    </tr>\n",
       "  </thead>\n",
       "  <tbody>\n",
       "    <tr>\n",
       "      <th>2015-01-02</th>\n",
       "      <td>111.39</td>\n",
       "      <td>111.44</td>\n",
       "      <td>107.350</td>\n",
       "      <td>109.33</td>\n",
       "      <td>53204626</td>\n",
       "      <td>AAPL</td>\n",
       "    </tr>\n",
       "    <tr>\n",
       "      <th>2015-01-05</th>\n",
       "      <td>108.29</td>\n",
       "      <td>108.65</td>\n",
       "      <td>105.410</td>\n",
       "      <td>106.25</td>\n",
       "      <td>64285491</td>\n",
       "      <td>AAPL</td>\n",
       "    </tr>\n",
       "    <tr>\n",
       "      <th>2015-01-06</th>\n",
       "      <td>106.54</td>\n",
       "      <td>107.43</td>\n",
       "      <td>104.630</td>\n",
       "      <td>106.26</td>\n",
       "      <td>65797116</td>\n",
       "      <td>AAPL</td>\n",
       "    </tr>\n",
       "    <tr>\n",
       "      <th>2015-01-07</th>\n",
       "      <td>107.20</td>\n",
       "      <td>108.20</td>\n",
       "      <td>106.695</td>\n",
       "      <td>107.75</td>\n",
       "      <td>40105934</td>\n",
       "      <td>AAPL</td>\n",
       "    </tr>\n",
       "    <tr>\n",
       "      <th>2015-01-08</th>\n",
       "      <td>109.23</td>\n",
       "      <td>112.15</td>\n",
       "      <td>108.700</td>\n",
       "      <td>111.89</td>\n",
       "      <td>59364547</td>\n",
       "      <td>AAPL</td>\n",
       "    </tr>\n",
       "  </tbody>\n",
       "</table>\n",
       "</div>"
      ],
      "text/plain": [
       "              open    high      low   close    volume  Name\n",
       "date                                                       \n",
       "2015-01-02  111.39  111.44  107.350  109.33  53204626  AAPL\n",
       "2015-01-05  108.29  108.65  105.410  106.25  64285491  AAPL\n",
       "2015-01-06  106.54  107.43  104.630  106.26  65797116  AAPL\n",
       "2015-01-07  107.20  108.20  106.695  107.75  40105934  AAPL\n",
       "2015-01-08  109.23  112.15  108.700  111.89  59364547  AAPL"
      ]
     },
     "execution_count": 39,
     "metadata": {},
     "output_type": "execute_result"
    }
   ],
   "source": [
    "file_path = '../data/StockAnalysisDataset.csv'\n",
    "data = pd.read_csv(file_path, parse_dates=['date'], index_col='date')\n",
    "data.info()\n",
    "data.head()\n"
   ]
  },
  {
   "cell_type": "markdown",
   "id": "c60faa8b",
   "metadata": {},
   "source": [
    "## Isolate Data by Tickers"
   ]
  },
  {
   "cell_type": "code",
   "execution_count": 33,
   "id": "8d1ecc64",
   "metadata": {},
   "outputs": [],
   "source": [
    "# create a function to filter out solely based on ticker name\n",
    "\n",
    "def isolate_ticker(data: pd.Series, ticker: str):\n",
    "    valid_tickers = ['AAPL', 'AMZN', 'MSFT', 'GOOG', 'TSLA']\n",
    "    if ticker not in valid_tickers:\n",
    "        print(f\"Please input valid ticker\")\n",
    "        return None\n",
    "    filtered_data = data[data[\"Name\"]== ticker]\n",
    "    return filtered_data"
   ]
  },
  {
   "cell_type": "markdown",
   "id": "36ce4366",
   "metadata": {},
   "source": [
    "## 1. Daily Returns"
   ]
  },
  {
   "cell_type": "code",
   "execution_count": 37,
   "id": "a358462b",
   "metadata": {},
   "outputs": [
    {
     "name": "stdout",
     "output_type": "stream",
     "text": [
      " \n",
      "--- DataFrame for AMZN with new 'daily_return' column ---\n",
      "              open    high       low   close   volume  Name  daily_return\n",
      "date                                                                     \n",
      "2015-01-02  312.58  314.75  306.9601  308.52  2788101  AMZN     -1.298867\n",
      "2015-01-05  307.01  308.38  300.8500  302.19  2774231  AMZN     -1.569981\n",
      "2015-01-06  302.24  303.00  292.3800  295.29  3519034  AMZN     -2.299497\n",
      "2015-01-07  297.50  301.28  295.3300  298.42  2640349  AMZN      0.309244\n",
      "2015-01-08  300.32  303.14  296.1100  300.46  3088398  AMZN      0.046617\n"
     ]
    }
   ],
   "source": [
    "# TODO: Implement the logic for calculating returns.\n",
    "def calculate_returns(data: pd.Series, ticker: str):    \n",
    "    filtered = isolate_ticker(data, ticker)\n",
    "    if filtered is None or filtered.empty:\n",
    "        print(f\"No data available for {ticker}\")\n",
    "        return None\n",
    "    \n",
    "    filtered = filtered.copy() \n",
    "    filtered['daily_return'] = ((filtered['close'] - filtered['open']) / filtered['open']) * 100\n",
    "    print(f\" \\n--- DataFrame for {ticker} with new 'daily_return' column ---\")\n",
    "    print(filtered.head())\n",
    "\n",
    "calculate_returns(data, \"AMZN\")"
   ]
  },
  {
   "cell_type": "markdown",
   "id": "8296c332",
   "metadata": {},
   "source": [
    "## 2. Simple Moving Average (SMA)"
   ]
  },
  {
   "cell_type": "code",
   "execution_count": 42,
   "id": "495888a0",
   "metadata": {},
   "outputs": [
    {
     "data": {
      "application/vnd.microsoft.datawrangler.viewer.v0+json": {
       "columns": [
        {
         "name": "date",
         "rawType": "datetime64[ns]",
         "type": "datetime"
        },
        {
         "name": "Close_Price",
         "rawType": "float64",
         "type": "float"
        }
       ],
       "ref": "dfa70a70-09dd-4110-a55e-86d4ab04fbbe",
       "rows": [
        [
         "2015-01-02 00:00:00",
         null
        ],
        [
         "2015-01-05 00:00:00",
         null
        ],
        [
         "2015-01-06 00:00:00",
         null
        ],
        [
         "2015-01-07 00:00:00",
         null
        ],
        [
         "2015-01-08 00:00:00",
         null
        ],
        [
         "2015-01-09 00:00:00",
         null
        ],
        [
         "2015-01-12 00:00:00",
         null
        ],
        [
         "2015-01-13 00:00:00",
         null
        ],
        [
         "2015-01-14 00:00:00",
         null
        ],
        [
         "2015-01-15 00:00:00",
         null
        ],
        [
         "2015-01-16 00:00:00",
         null
        ],
        [
         "2015-01-20 00:00:00",
         null
        ],
        [
         "2015-01-21 00:00:00",
         null
        ],
        [
         "2015-01-22 00:00:00",
         null
        ],
        [
         "2015-01-23 00:00:00",
         null
        ],
        [
         "2015-01-26 00:00:00",
         null
        ],
        [
         "2015-01-27 00:00:00",
         null
        ],
        [
         "2015-01-28 00:00:00",
         null
        ],
        [
         "2015-01-29 00:00:00",
         null
        ],
        [
         "2015-01-30 00:00:00",
         null
        ],
        [
         "2015-02-02 00:00:00",
         null
        ],
        [
         "2015-02-03 00:00:00",
         null
        ],
        [
         "2015-02-04 00:00:00",
         null
        ],
        [
         "2015-02-05 00:00:00",
         null
        ],
        [
         "2015-02-06 00:00:00",
         null
        ],
        [
         "2015-02-09 00:00:00",
         null
        ],
        [
         "2015-02-10 00:00:00",
         null
        ],
        [
         "2015-02-11 00:00:00",
         null
        ],
        [
         "2015-02-12 00:00:00",
         null
        ],
        [
         "2015-02-13 00:00:00",
         "325.79"
        ],
        [
         "2015-02-17 00:00:00",
         "328.02"
        ],
        [
         "2015-02-18 00:00:00",
         "330.39"
        ],
        [
         "2015-02-19 00:00:00",
         "333.18"
        ],
        [
         "2015-02-20 00:00:00",
         "336.02"
        ],
        [
         "2015-02-23 00:00:00",
         "338.68"
        ],
        [
         "2015-02-24 00:00:00",
         "341.4"
        ],
        [
         "2015-02-25 00:00:00",
         "344.53"
        ],
        [
         "2015-02-26 00:00:00",
         "347.53"
        ],
        [
         "2015-02-27 00:00:00",
         "350.43"
        ],
        [
         "2015-03-02 00:00:00",
         "353.72"
        ],
        [
         "2015-03-03 00:00:00",
         "356.85"
        ],
        [
         "2015-03-04 00:00:00",
         "359.96"
        ],
        [
         "2015-03-05 00:00:00",
         "362.98"
        ],
        [
         "2015-03-06 00:00:00",
         "365.3"
        ],
        [
         "2015-03-09 00:00:00",
         "367.51"
        ],
        [
         "2015-03-10 00:00:00",
         "369.5"
        ],
        [
         "2015-03-11 00:00:00",
         "371.49"
        ],
        [
         "2015-03-12 00:00:00",
         "373.83"
        ],
        [
         "2015-03-13 00:00:00",
         "375.79"
        ],
        [
         "2015-03-16 00:00:00",
         "376.42"
        ]
       ],
       "shape": {
        "columns": 1,
        "rows": 755
       }
      },
      "text/html": [
       "<div>\n",
       "<style scoped>\n",
       "    .dataframe tbody tr th:only-of-type {\n",
       "        vertical-align: middle;\n",
       "    }\n",
       "\n",
       "    .dataframe tbody tr th {\n",
       "        vertical-align: top;\n",
       "    }\n",
       "\n",
       "    .dataframe thead th {\n",
       "        text-align: right;\n",
       "    }\n",
       "</style>\n",
       "<table border=\"1\" class=\"dataframe\">\n",
       "  <thead>\n",
       "    <tr style=\"text-align: right;\">\n",
       "      <th></th>\n",
       "      <th>Close_Price</th>\n",
       "    </tr>\n",
       "    <tr>\n",
       "      <th>date</th>\n",
       "      <th></th>\n",
       "    </tr>\n",
       "  </thead>\n",
       "  <tbody>\n",
       "    <tr>\n",
       "      <th>2015-01-02</th>\n",
       "      <td>NaN</td>\n",
       "    </tr>\n",
       "    <tr>\n",
       "      <th>2015-01-05</th>\n",
       "      <td>NaN</td>\n",
       "    </tr>\n",
       "    <tr>\n",
       "      <th>2015-01-06</th>\n",
       "      <td>NaN</td>\n",
       "    </tr>\n",
       "    <tr>\n",
       "      <th>2015-01-07</th>\n",
       "      <td>NaN</td>\n",
       "    </tr>\n",
       "    <tr>\n",
       "      <th>2015-01-08</th>\n",
       "      <td>NaN</td>\n",
       "    </tr>\n",
       "    <tr>\n",
       "      <th>...</th>\n",
       "      <td>...</td>\n",
       "    </tr>\n",
       "    <tr>\n",
       "      <th>2017-12-22</th>\n",
       "      <td>1159.43</td>\n",
       "    </tr>\n",
       "    <tr>\n",
       "      <th>2017-12-26</th>\n",
       "      <td>1161.14</td>\n",
       "    </tr>\n",
       "    <tr>\n",
       "      <th>2017-12-27</th>\n",
       "      <td>1162.91</td>\n",
       "    </tr>\n",
       "    <tr>\n",
       "      <th>2017-12-28</th>\n",
       "      <td>1164.55</td>\n",
       "    </tr>\n",
       "    <tr>\n",
       "      <th>2017-12-29</th>\n",
       "      <td>1165.98</td>\n",
       "    </tr>\n",
       "  </tbody>\n",
       "</table>\n",
       "<p>755 rows × 1 columns</p>\n",
       "</div>"
      ],
      "text/plain": [
       "            Close_Price\n",
       "date                   \n",
       "2015-01-02          NaN\n",
       "2015-01-05          NaN\n",
       "2015-01-06          NaN\n",
       "2015-01-07          NaN\n",
       "2015-01-08          NaN\n",
       "...                 ...\n",
       "2017-12-22      1159.43\n",
       "2017-12-26      1161.14\n",
       "2017-12-27      1162.91\n",
       "2017-12-28      1164.55\n",
       "2017-12-29      1165.98\n",
       "\n",
       "[755 rows x 1 columns]"
      ]
     },
     "execution_count": 42,
     "metadata": {},
     "output_type": "execute_result"
    }
   ],
   "source": [
    "def calculate_sma(data: pd.Series, window:int, ticker: str): \n",
    "    filtered = isolate_ticker(data, ticker)\n",
    "    if filtered is None or filtered.empty:\n",
    "        print(f\"No data available for {ticker}\")\n",
    "        return None\n",
    "    \n",
    "    filtered = filtered.copy()\n",
    "    SMA = pd.DataFrame()\n",
    "    SMA['Close_Price'] = filtered['close'].rolling(window = window).mean().round(2) \n",
    "    return SMA\n",
    "calculate_sma(data, 30, \"AMZN\")"
   ]
  },
  {
   "cell_type": "markdown",
   "id": "121bfc5a",
   "metadata": {},
   "source": [
    "## 3. Relative Strength Index (RSI)"
   ]
  },
  {
   "cell_type": "code",
   "execution_count": null,
   "id": "da752074",
   "metadata": {},
   "outputs": [],
   "source": []
  },
  {
   "cell_type": "markdown",
   "id": "7b90acba",
   "metadata": {},
   "source": [
    "## 4. Upward and Downward Runs "
   ]
  },
  {
   "cell_type": "code",
   "execution_count": null,
   "id": "9e872882",
   "metadata": {},
   "outputs": [],
   "source": []
  }
 ],
 "metadata": {
  "kernelspec": {
   "display_name": "Python 3",
   "language": "python",
   "name": "python3"
  },
  "language_info": {
   "codemirror_mode": {
    "name": "ipython",
    "version": 3
   },
   "file_extension": ".py",
   "mimetype": "text/x-python",
   "name": "python",
   "nbconvert_exporter": "python",
   "pygments_lexer": "ipython3",
   "version": "3.10.4"
  }
 },
 "nbformat": 4,
 "nbformat_minor": 5
}
